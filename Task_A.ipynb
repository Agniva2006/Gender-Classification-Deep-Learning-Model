{
  "cells": [
    {
      "cell_type": "markdown",
      "id": "96a17750",
      "metadata": {
        "id": "96a17750"
      },
      "source": [
        "## Gender Classification Project"
      ]
    },
    {
      "cell_type": "markdown",
      "id": "TvTYXAIXcL8U",
      "metadata": {
        "id": "TvTYXAIXcL8U"
      },
      "source": [
        "## 1.google drive permision check"
      ]
    },
    {
      "cell_type": "code",
      "execution_count": 1,
      "id": "fTlc1NVbB7Ig",
      "metadata": {
        "colab": {
          "base_uri": "https://localhost:8080/"
        },
        "id": "fTlc1NVbB7Ig",
        "outputId": "94195f3f-c841-4b63-8f0d-8b64223ed294"
      },
      "outputs": [
        {
          "name": "stdout",
          "output_type": "stream",
          "text": [
            "Mounted at /content/drive\n"
          ]
        }
      ],
      "source": [
        "from google.colab import drive\n",
        "drive.mount('/content/drive')"
      ]
    },
    {
      "cell_type": "markdown",
      "id": "i7BoJfvNcdNk",
      "metadata": {
        "id": "i7BoJfvNcdNk"
      },
      "source": [
        "## 2.Import zip file from drive"
      ]
    },
    {
      "cell_type": "code",
      "execution_count": 2,
      "id": "SLP-H_G2B8-M",
      "metadata": {
        "id": "SLP-H_G2B8-M"
      },
      "outputs": [],
      "source": [
        "import zipfile\n",
        "\n",
        "zip_path = \"/content/drive/MyDrive/Comys_Hackathon5.zip\"\n",
        "extract_path = \"/content/Comys_Hackathon5\"\n",
        "\n",
        "with zipfile.ZipFile(zip_path, 'r') as zip_ref:\n",
        "    zip_ref.extractall(extract_path)"
      ]
    },
    {
      "cell_type": "markdown",
      "id": "JYr1TfOHcm0B",
      "metadata": {
        "id": "JYr1TfOHcm0B"
      },
      "source": [
        "## 3.Import the libraries"
      ]
    },
    {
      "cell_type": "code",
      "execution_count": 3,
      "id": "9113949f",
      "metadata": {
        "id": "9113949f"
      },
      "outputs": [],
      "source": [
        "import os\n",
        "import torch\n",
        "import torch.nn as nn\n",
        "import torch.optim as optim\n",
        "from torchvision import transforms,models,datasets\n",
        "from torchvision.transforms import ToTensor, Normalize, Resize, Compose, RandomHorizontalFlip, ColorJitter\n",
        "from torch.utils.data import DataLoader\n",
        "from sklearn.metrics import classification_report\n",
        "import matplotlib.pyplot as plt"
      ]
    },
    {
      "cell_type": "markdown",
      "id": "IQ_NCf36csOB",
      "metadata": {
        "id": "IQ_NCf36csOB"
      },
      "source": [
        "## 4.HyperParaMeters"
      ]
    },
    {
      "cell_type": "code",
      "execution_count": 4,
      "id": "135ae4f6",
      "metadata": {
        "id": "135ae4f6"
      },
      "outputs": [],
      "source": [
        "BATCH_SIZE = 32\n",
        "LR = 1e-4\n",
        "EPOCHS = 5\n",
        "IMAGE_SIZE = 224"
      ]
    },
    {
      "cell_type": "markdown",
      "id": "d435fcbb",
      "metadata": {
        "id": "d435fcbb"
      },
      "source": [
        "## 5.Data Transforms"
      ]
    },
    {
      "cell_type": "code",
      "execution_count": 5,
      "id": "3fcf53a8",
      "metadata": {
        "id": "3fcf53a8"
      },
      "outputs": [],
      "source": [
        "train_transform=transforms.Compose([\n",
        "    transforms.Resize((IMAGE_SIZE,IMAGE_SIZE)),\n",
        "    transforms.RandomHorizontalFlip(),\n",
        "    transforms.ColorJitter(brightness=0.2,contrast=0.2),\n",
        "    transforms.ToTensor(),\n",
        "    transforms.Normalize(mean=[0.5, 0.5, 0.5], std=[0.5, 0.5, 0.5])\n",
        "])\n",
        "\n",
        "val_transform=transforms.Compose([\n",
        "    transforms.Resize((IMAGE_SIZE,IMAGE_SIZE)),\n",
        "    transforms.ToTensor(),\n",
        "    transforms.Normalize(mean=[0.5, 0.5, 0.5], std=[0.5, 0.5, 0.5])\n",
        "])"
      ]
    },
    {
      "cell_type": "markdown",
      "id": "NSfahbCCc7Ho",
      "metadata": {
        "id": "NSfahbCCc7Ho"
      },
      "source": [
        "##6. Find The Directories Of Train and Validation Datasets"
      ]
    },
    {
      "cell_type": "code",
      "execution_count": 6,
      "id": "xqseIzQkC5pM",
      "metadata": {
        "colab": {
          "base_uri": "https://localhost:8080/"
        },
        "id": "xqseIzQkC5pM",
        "outputId": "ae86b9dd-0340-483b-d1e4-3f5c676b1ab9"
      },
      "outputs": [
        {
          "name": "stdout",
          "output_type": "stream",
          "text": [
            "/content/Comys_Hackathon5/Comys_Hackathon5/Task_A/train\n",
            "/content/Comys_Hackathon5/Comys_Hackathon5/Task_B/train\n",
            "/content/Comys_Hackathon5/Comys_Hackathon5/Task_A/val\n",
            "/content/Comys_Hackathon5/Comys_Hackathon5/Task_B/val\n"
          ]
        }
      ],
      "source": [
        "!find /content/Comys_Hackathon5/ -name \"train\"\n",
        "!find /content/Comys_Hackathon5/ -name \"val\""
      ]
    },
    {
      "cell_type": "markdown",
      "id": "fb95802b",
      "metadata": {
        "id": "fb95802b"
      },
      "source": [
        "## 7.breakdown into train and test datasets"
      ]
    },
    {
      "cell_type": "code",
      "execution_count": 7,
      "id": "U-CMotTsCHzy",
      "metadata": {
        "id": "U-CMotTsCHzy"
      },
      "outputs": [],
      "source": [
        "train_dataset = datasets.ImageFolder(\"/content/Comys_Hackathon5/Comys_Hackathon5/Task_A/train\", transform=train_transform)\n",
        "val_dataset = datasets.ImageFolder(\"/content/Comys_Hackathon5/Comys_Hackathon5/Task_A/val\", transform=val_transform)"
      ]
    },
    {
      "cell_type": "markdown",
      "id": "UCZjSwTXdaLj",
      "metadata": {
        "id": "UCZjSwTXdaLj"
      },
      "source": [
        "## 8. length of training dataset"
      ]
    },
    {
      "cell_type": "code",
      "execution_count": 8,
      "id": "Pt4mMQkaKwgX",
      "metadata": {
        "colab": {
          "base_uri": "https://localhost:8080/"
        },
        "id": "Pt4mMQkaKwgX",
        "outputId": "6c0c67b7-bcfa-4878-a4ca-97af8a6dfc1b"
      },
      "outputs": [
        {
          "data": {
            "text/plain": [
              "1926"
            ]
          },
          "execution_count": 8,
          "metadata": {},
          "output_type": "execute_result"
        }
      ],
      "source": [
        "len(train_dataset)"
      ]
    },
    {
      "cell_type": "markdown",
      "id": "ONB2OBRqdhxP",
      "metadata": {
        "id": "ONB2OBRqdhxP"
      },
      "source": [
        "## 9. assigned male as 1 and female as 0"
      ]
    },
    {
      "cell_type": "code",
      "execution_count": 9,
      "id": "7cLQL3XCOjNg",
      "metadata": {
        "colab": {
          "base_uri": "https://localhost:8080/"
        },
        "id": "7cLQL3XCOjNg",
        "outputId": "e315c9c6-e067-4f7e-aef5-facaf6afceeb"
      },
      "outputs": [
        {
          "name": "stdout",
          "output_type": "stream",
          "text": [
            "Counter({1: 1623, 0: 303})\n"
          ]
        }
      ],
      "source": [
        "from collections import Counter\n",
        "\n",
        "targets = [label for _, label in train_dataset]\n",
        "class_counts = Counter(targets)\n",
        "\n",
        "print(class_counts)\n"
      ]
    },
    {
      "cell_type": "markdown",
      "id": "-E4D_YZWdrmn",
      "metadata": {
        "id": "-E4D_YZWdrmn"
      },
      "source": [
        "## 10. Create Weights For each Sample"
      ]
    },
    {
      "cell_type": "code",
      "execution_count": 10,
      "id": "BWdOh7S-OkX1",
      "metadata": {
        "id": "BWdOh7S-OkX1"
      },
      "outputs": [],
      "source": [
        "import numpy as np\n",
        "from torch.utils.data import WeightedRandomSampler\n",
        "\n",
        "class_sample_counts = [class_counts[0], class_counts[1]]\n",
        "weights = 1. / np.array(class_sample_counts)\n",
        "\n",
        "sample_weights = [weights[label] for label in targets]\n"
      ]
    },
    {
      "cell_type": "markdown",
      "id": "MR3CmxdKegG7",
      "metadata": {
        "id": "MR3CmxdKegG7"
      },
      "source": [
        "## 11.initialize the weightRandomSampler"
      ]
    },
    {
      "cell_type": "code",
      "execution_count": 11,
      "id": "9m02UO4dOmds",
      "metadata": {
        "id": "9m02UO4dOmds"
      },
      "outputs": [],
      "source": [
        "sampler = WeightedRandomSampler(\n",
        "    weights=sample_weights,\n",
        "    num_samples=len(sample_weights),\n",
        "    replacement=True\n",
        ")\n"
      ]
    },
    {
      "cell_type": "markdown",
      "id": "4i1qDsP5eifl",
      "metadata": {
        "id": "4i1qDsP5eifl"
      },
      "source": [
        "## 12. load the DataLoader"
      ]
    },
    {
      "cell_type": "code",
      "execution_count": 12,
      "id": "ffc9dc87",
      "metadata": {
        "id": "ffc9dc87"
      },
      "outputs": [],
      "source": [
        "train_loader = DataLoader(train_dataset, batch_size=BATCH_SIZE, sampler=sampler,num_workers=2)\n",
        "val_loader = DataLoader(val_dataset, batch_size=BATCH_SIZE, shuffle=False)"
      ]
    },
    {
      "cell_type": "markdown",
      "id": "x-8M1DEhen2O",
      "metadata": {
        "id": "x-8M1DEhen2O"
      },
      "source": [
        "## 13. use the gpu"
      ]
    },
    {
      "cell_type": "code",
      "execution_count": 13,
      "id": "90be7f1e",
      "metadata": {
        "colab": {
          "base_uri": "https://localhost:8080/"
        },
        "id": "90be7f1e",
        "outputId": "dfa11d36-793e-485d-8b54-c1b62e985939"
      },
      "outputs": [
        {
          "name": "stdout",
          "output_type": "stream",
          "text": [
            "Using device: cuda\n"
          ]
        }
      ],
      "source": [
        "device = torch.device(\"cuda\" if torch.cuda.is_available() else \"cpu\")\n",
        "print(f\"Using device: {device}\")"
      ]
    },
    {
      "cell_type": "markdown",
      "id": "9zmjueIqexcI",
      "metadata": {
        "id": "9zmjueIqexcI"
      },
      "source": [
        "## 14. use of pretrained Model (RESNET18)"
      ]
    },
    {
      "cell_type": "code",
      "execution_count": 14,
      "id": "86d30a6e",
      "metadata": {
        "colab": {
          "base_uri": "https://localhost:8080/"
        },
        "id": "86d30a6e",
        "outputId": "3eaaa71f-9b23-417b-ef84-58e728db2874"
      },
      "outputs": [
        {
          "name": "stderr",
          "output_type": "stream",
          "text": [
            "/usr/local/lib/python3.11/dist-packages/torchvision/models/_utils.py:208: UserWarning: The parameter 'pretrained' is deprecated since 0.13 and may be removed in the future, please use 'weights' instead.\n",
            "  warnings.warn(\n",
            "/usr/local/lib/python3.11/dist-packages/torchvision/models/_utils.py:223: UserWarning: Arguments other than a weight enum or `None` for 'weights' are deprecated since 0.13 and may be removed in the future. The current behavior is equivalent to passing `weights=ResNet18_Weights.IMAGENET1K_V1`. You can also use `weights=ResNet18_Weights.DEFAULT` to get the most up-to-date weights.\n",
            "  warnings.warn(msg)\n",
            "Downloading: \"https://download.pytorch.org/models/resnet18-f37072fd.pth\" to /root/.cache/torch/hub/checkpoints/resnet18-f37072fd.pth\n",
            "100%|██████████| 44.7M/44.7M [00:00<00:00, 179MB/s]\n"
          ]
        },
        {
          "data": {
            "text/plain": [
              "ResNet(\n",
              "  (conv1): Conv2d(3, 64, kernel_size=(7, 7), stride=(2, 2), padding=(3, 3), bias=False)\n",
              "  (bn1): BatchNorm2d(64, eps=1e-05, momentum=0.1, affine=True, track_running_stats=True)\n",
              "  (relu): ReLU(inplace=True)\n",
              "  (maxpool): MaxPool2d(kernel_size=3, stride=2, padding=1, dilation=1, ceil_mode=False)\n",
              "  (layer1): Sequential(\n",
              "    (0): BasicBlock(\n",
              "      (conv1): Conv2d(64, 64, kernel_size=(3, 3), stride=(1, 1), padding=(1, 1), bias=False)\n",
              "      (bn1): BatchNorm2d(64, eps=1e-05, momentum=0.1, affine=True, track_running_stats=True)\n",
              "      (relu): ReLU(inplace=True)\n",
              "      (conv2): Conv2d(64, 64, kernel_size=(3, 3), stride=(1, 1), padding=(1, 1), bias=False)\n",
              "      (bn2): BatchNorm2d(64, eps=1e-05, momentum=0.1, affine=True, track_running_stats=True)\n",
              "    )\n",
              "    (1): BasicBlock(\n",
              "      (conv1): Conv2d(64, 64, kernel_size=(3, 3), stride=(1, 1), padding=(1, 1), bias=False)\n",
              "      (bn1): BatchNorm2d(64, eps=1e-05, momentum=0.1, affine=True, track_running_stats=True)\n",
              "      (relu): ReLU(inplace=True)\n",
              "      (conv2): Conv2d(64, 64, kernel_size=(3, 3), stride=(1, 1), padding=(1, 1), bias=False)\n",
              "      (bn2): BatchNorm2d(64, eps=1e-05, momentum=0.1, affine=True, track_running_stats=True)\n",
              "    )\n",
              "  )\n",
              "  (layer2): Sequential(\n",
              "    (0): BasicBlock(\n",
              "      (conv1): Conv2d(64, 128, kernel_size=(3, 3), stride=(2, 2), padding=(1, 1), bias=False)\n",
              "      (bn1): BatchNorm2d(128, eps=1e-05, momentum=0.1, affine=True, track_running_stats=True)\n",
              "      (relu): ReLU(inplace=True)\n",
              "      (conv2): Conv2d(128, 128, kernel_size=(3, 3), stride=(1, 1), padding=(1, 1), bias=False)\n",
              "      (bn2): BatchNorm2d(128, eps=1e-05, momentum=0.1, affine=True, track_running_stats=True)\n",
              "      (downsample): Sequential(\n",
              "        (0): Conv2d(64, 128, kernel_size=(1, 1), stride=(2, 2), bias=False)\n",
              "        (1): BatchNorm2d(128, eps=1e-05, momentum=0.1, affine=True, track_running_stats=True)\n",
              "      )\n",
              "    )\n",
              "    (1): BasicBlock(\n",
              "      (conv1): Conv2d(128, 128, kernel_size=(3, 3), stride=(1, 1), padding=(1, 1), bias=False)\n",
              "      (bn1): BatchNorm2d(128, eps=1e-05, momentum=0.1, affine=True, track_running_stats=True)\n",
              "      (relu): ReLU(inplace=True)\n",
              "      (conv2): Conv2d(128, 128, kernel_size=(3, 3), stride=(1, 1), padding=(1, 1), bias=False)\n",
              "      (bn2): BatchNorm2d(128, eps=1e-05, momentum=0.1, affine=True, track_running_stats=True)\n",
              "    )\n",
              "  )\n",
              "  (layer3): Sequential(\n",
              "    (0): BasicBlock(\n",
              "      (conv1): Conv2d(128, 256, kernel_size=(3, 3), stride=(2, 2), padding=(1, 1), bias=False)\n",
              "      (bn1): BatchNorm2d(256, eps=1e-05, momentum=0.1, affine=True, track_running_stats=True)\n",
              "      (relu): ReLU(inplace=True)\n",
              "      (conv2): Conv2d(256, 256, kernel_size=(3, 3), stride=(1, 1), padding=(1, 1), bias=False)\n",
              "      (bn2): BatchNorm2d(256, eps=1e-05, momentum=0.1, affine=True, track_running_stats=True)\n",
              "      (downsample): Sequential(\n",
              "        (0): Conv2d(128, 256, kernel_size=(1, 1), stride=(2, 2), bias=False)\n",
              "        (1): BatchNorm2d(256, eps=1e-05, momentum=0.1, affine=True, track_running_stats=True)\n",
              "      )\n",
              "    )\n",
              "    (1): BasicBlock(\n",
              "      (conv1): Conv2d(256, 256, kernel_size=(3, 3), stride=(1, 1), padding=(1, 1), bias=False)\n",
              "      (bn1): BatchNorm2d(256, eps=1e-05, momentum=0.1, affine=True, track_running_stats=True)\n",
              "      (relu): ReLU(inplace=True)\n",
              "      (conv2): Conv2d(256, 256, kernel_size=(3, 3), stride=(1, 1), padding=(1, 1), bias=False)\n",
              "      (bn2): BatchNorm2d(256, eps=1e-05, momentum=0.1, affine=True, track_running_stats=True)\n",
              "    )\n",
              "  )\n",
              "  (layer4): Sequential(\n",
              "    (0): BasicBlock(\n",
              "      (conv1): Conv2d(256, 512, kernel_size=(3, 3), stride=(2, 2), padding=(1, 1), bias=False)\n",
              "      (bn1): BatchNorm2d(512, eps=1e-05, momentum=0.1, affine=True, track_running_stats=True)\n",
              "      (relu): ReLU(inplace=True)\n",
              "      (conv2): Conv2d(512, 512, kernel_size=(3, 3), stride=(1, 1), padding=(1, 1), bias=False)\n",
              "      (bn2): BatchNorm2d(512, eps=1e-05, momentum=0.1, affine=True, track_running_stats=True)\n",
              "      (downsample): Sequential(\n",
              "        (0): Conv2d(256, 512, kernel_size=(1, 1), stride=(2, 2), bias=False)\n",
              "        (1): BatchNorm2d(512, eps=1e-05, momentum=0.1, affine=True, track_running_stats=True)\n",
              "      )\n",
              "    )\n",
              "    (1): BasicBlock(\n",
              "      (conv1): Conv2d(512, 512, kernel_size=(3, 3), stride=(1, 1), padding=(1, 1), bias=False)\n",
              "      (bn1): BatchNorm2d(512, eps=1e-05, momentum=0.1, affine=True, track_running_stats=True)\n",
              "      (relu): ReLU(inplace=True)\n",
              "      (conv2): Conv2d(512, 512, kernel_size=(3, 3), stride=(1, 1), padding=(1, 1), bias=False)\n",
              "      (bn2): BatchNorm2d(512, eps=1e-05, momentum=0.1, affine=True, track_running_stats=True)\n",
              "    )\n",
              "  )\n",
              "  (avgpool): AdaptiveAvgPool2d(output_size=(1, 1))\n",
              "  (fc): Sequential(\n",
              "    (0): Dropout(p=0.4, inplace=False)\n",
              "    (1): Linear(in_features=512, out_features=2, bias=True)\n",
              "  )\n",
              ")"
            ]
          },
          "execution_count": 14,
          "metadata": {},
          "output_type": "execute_result"
        }
      ],
      "source": [
        "model = models.resnet18(pretrained=True)\n",
        "#dropout\n",
        "model.fc = nn.Sequential(\n",
        "    nn.Dropout(0.4),\n",
        "    nn.Linear(model.fc.in_features, 2)\n",
        ")\n",
        "\n",
        "model.to(device)"
      ]
    },
    {
      "cell_type": "markdown",
      "id": "jbHJiD6Ue7bJ",
      "metadata": {
        "id": "jbHJiD6Ue7bJ"
      },
      "source": [
        "## 14. Optimizaor and criterion"
      ]
    },
    {
      "cell_type": "code",
      "execution_count": 15,
      "id": "2e41a505",
      "metadata": {
        "id": "2e41a505"
      },
      "outputs": [],
      "source": [
        "criterion = nn.CrossEntropyLoss()\n",
        "optimizer = optim.Adam(model.parameters(), lr=LR)"
      ]
    },
    {
      "cell_type": "markdown",
      "id": "1pvzFXItfBtc",
      "metadata": {
        "id": "1pvzFXItfBtc"
      },
      "source": [
        "## 15 .Training the dataset"
      ]
    },
    {
      "cell_type": "code",
      "execution_count": 16,
      "id": "w3-ebx51W2eL",
      "metadata": {
        "colab": {
          "base_uri": "https://localhost:8080/"
        },
        "id": "w3-ebx51W2eL",
        "outputId": "b244ab3b-bc9f-4c70-aec0-bc9c30252837"
      },
      "outputs": [
        {
          "name": "stdout",
          "output_type": "stream",
          "text": [
            "Epoch 1/5: Train Loss=0.2260, Val Loss=0.2488, Train Acc=90.19%, Val Acc=91.00%\n",
            "Epoch 2/5: Train Loss=0.0697, Val Loss=0.2477, Train Acc=97.30%, Val Acc=91.94%\n",
            "Epoch 3/5: Train Loss=0.0672, Val Loss=0.2554, Train Acc=97.92%, Val Acc=91.71%\n",
            "Epoch 4/5: Train Loss=0.0253, Val Loss=0.2848, Train Acc=99.33%, Val Acc=92.18%\n",
            "Epoch 5/5: Train Loss=0.0319, Val Loss=0.2890, Train Acc=98.75%, Val Acc=91.71%\n"
          ]
        }
      ],
      "source": [
        "train_losses, val_losses, train_accuracies, val_accuracies = [], [], [], []\n",
        "\n",
        "for epoch in range(EPOCHS):\n",
        "    # -------------------- Training --------------------\n",
        "    model.train()\n",
        "    train_loss, correct, total = 0.0, 0, 0\n",
        "\n",
        "    for images, labels in train_loader:\n",
        "        images, labels = images.to(device), labels.to(device)\n",
        "        outputs = model(images)\n",
        "        loss = criterion(outputs, labels)\n",
        "\n",
        "        optimizer.zero_grad()\n",
        "        loss.backward()\n",
        "        optimizer.step()\n",
        "\n",
        "        train_loss += loss.item() * images.size(0)\n",
        "        _, predicted = outputs.max(1)\n",
        "        correct += predicted.eq(labels).sum().item()\n",
        "        total += labels.size(0)\n",
        "\n",
        "    train_acc = 100 * correct / total\n",
        "    train_losses.append(train_loss / total)\n",
        "    train_accuracies.append(train_acc)\n",
        "\n",
        "    # -------------------- Validation --------------------\n",
        "    model.eval()\n",
        "    val_loss, correct, total = 0.0, 0, 0\n",
        "    all_preds, all_labels = [], []\n",
        "\n",
        "    with torch.no_grad():\n",
        "        for images, labels in val_loader:\n",
        "            images, labels = images.to(device), labels.to(device)\n",
        "            outputs = model(images)\n",
        "            loss = criterion(outputs, labels)\n",
        "\n",
        "            val_loss += loss.item() * images.size(0)\n",
        "            _, predicted = outputs.max(1)\n",
        "            correct += predicted.eq(labels).sum().item()\n",
        "            total += labels.size(0)\n",
        "\n",
        "            all_preds.extend(predicted.cpu().numpy())\n",
        "            all_labels.extend(labels.cpu().numpy())\n",
        "\n",
        "    val_acc = 100 * correct / total\n",
        "    val_losses.append(val_loss / total)\n",
        "    val_accuracies.append(val_acc)\n",
        "\n",
        "    # -------------------- Print Epoch Summary --------------------\n",
        "    print(f\"Epoch {epoch+1}/{EPOCHS}: \"\n",
        "          f\"Train Loss={train_losses[-1]:.4f}, Val Loss={val_losses[-1]:.4f}, \"\n",
        "          f\"Train Acc={train_acc:.2f}%, Val Acc={val_acc:.2f}%\")\n"
      ]
    },
    {
      "cell_type": "markdown",
      "id": "P6R2Pxqkfb2G",
      "metadata": {
        "id": "P6R2Pxqkfb2G"
      },
      "source": [
        "## 16.Classification Matrix"
      ]
    },
    {
      "cell_type": "code",
      "execution_count": 17,
      "id": "772ECbssGbKO",
      "metadata": {
        "colab": {
          "base_uri": "https://localhost:8080/"
        },
        "id": "772ECbssGbKO",
        "outputId": "8694f019-636f-494a-a79d-5504780aff47"
      },
      "outputs": [
        {
          "name": "stdout",
          "output_type": "stream",
          "text": [
            "Final Validation Metrics (Task A - Gender Classification):\n",
            "              precision    recall  f1-score   support\n",
            "\n",
            "      female       0.79      0.76      0.77        79\n",
            "        male       0.95      0.95      0.95       343\n",
            "\n",
            "    accuracy                           0.92       422\n",
            "   macro avg       0.87      0.86      0.86       422\n",
            "weighted avg       0.92      0.92      0.92       422\n",
            "\n"
          ]
        }
      ],
      "source": [
        "print(\"Final Validation Metrics (Task A - Gender Classification):\")\n",
        "print(classification_report(all_labels, all_preds, target_names=train_dataset.classes))"
      ]
    },
    {
      "cell_type": "markdown",
      "id": "8Uh0YO9PfUch",
      "metadata": {
        "id": "8Uh0YO9PfUch"
      },
      "source": [
        "## 17. Accuracy Matrices"
      ]
    },
    {
      "cell_type": "code",
      "execution_count": 18,
      "id": "s05VgPFabHcp",
      "metadata": {
        "colab": {
          "base_uri": "https://localhost:8080/"
        },
        "id": "s05VgPFabHcp",
        "outputId": "a12f0b6d-5be2-453c-b779-e629ef5b711f"
      },
      "outputs": [
        {
          "name": "stdout",
          "output_type": "stream",
          "text": [
            "Accuracy: 91.71%\n"
          ]
        }
      ],
      "source": [
        "from sklearn.metrics import accuracy_score\n",
        "accuracy = accuracy_score(all_labels, all_preds)\n",
        "print(f\" Validation Accuracy: {accuracy * 100:.2f}%\")"
      ]
    },
    {
      "cell_type": "code",
      "execution_count": 20,
      "id": "7-0ZXD7S8Wfh",
      "metadata": {
        "colab": {
          "base_uri": "https://localhost:8080/"
        },
        "id": "7-0ZXD7S8Wfh",
        "outputId": "9d091bde-b6a0-4835-9899-e1d1bf57bc5d"
      },
      "outputs": [
        {
          "data": {
            "text/plain": [
              "np.float64(0.8564232202826881)"
            ]
          },
          "execution_count": 20,
          "metadata": {},
          "output_type": "execute_result"
        }
      ],
      "source": [
        "from sklearn.metrics import roc_auc_score\n",
        "roc_auc_score(all_labels, all_preds)"
      ]
    },
    {
      "cell_type": "markdown",
      "id": "YqTeBFcz-rJ-",
      "metadata": {
        "id": "YqTeBFcz-rJ-"
      },
      "source": [
        "## code testing"
      ]
    },
    {
      "cell_type": "markdown",
      "id": "-mGJVT41-w9y",
      "metadata": {
        "id": "-mGJVT41-w9y"
      },
      "source": [
        "# 18. upload image of mbappe"
      ]
    },
    {
      "cell_type": "code",
      "execution_count": 29,
      "id": "URZ8TdUb980u",
      "metadata": {
        "colab": {
          "base_uri": "https://localhost:8080/",
          "height": 73
        },
        "id": "URZ8TdUb980u",
        "outputId": "30991bdb-8a9c-4a4e-c4b0-fb1feb259052"
      },
      "outputs": [
        {
          "data": {
            "text/html": [
              "\n",
              "     <input type=\"file\" id=\"files-9cafb64d-fd9e-4ab0-8a22-adb0f99d45da\" name=\"files[]\" multiple disabled\n",
              "        style=\"border:none\" />\n",
              "     <output id=\"result-9cafb64d-fd9e-4ab0-8a22-adb0f99d45da\">\n",
              "      Upload widget is only available when the cell has been executed in the\n",
              "      current browser session. Please rerun this cell to enable.\n",
              "      </output>\n",
              "      <script>// Copyright 2017 Google LLC\n",
              "//\n",
              "// Licensed under the Apache License, Version 2.0 (the \"License\");\n",
              "// you may not use this file except in compliance with the License.\n",
              "// You may obtain a copy of the License at\n",
              "//\n",
              "//      http://www.apache.org/licenses/LICENSE-2.0\n",
              "//\n",
              "// Unless required by applicable law or agreed to in writing, software\n",
              "// distributed under the License is distributed on an \"AS IS\" BASIS,\n",
              "// WITHOUT WARRANTIES OR CONDITIONS OF ANY KIND, either express or implied.\n",
              "// See the License for the specific language governing permissions and\n",
              "// limitations under the License.\n",
              "\n",
              "/**\n",
              " * @fileoverview Helpers for google.colab Python module.\n",
              " */\n",
              "(function(scope) {\n",
              "function span(text, styleAttributes = {}) {\n",
              "  const element = document.createElement('span');\n",
              "  element.textContent = text;\n",
              "  for (const key of Object.keys(styleAttributes)) {\n",
              "    element.style[key] = styleAttributes[key];\n",
              "  }\n",
              "  return element;\n",
              "}\n",
              "\n",
              "// Max number of bytes which will be uploaded at a time.\n",
              "const MAX_PAYLOAD_SIZE = 100 * 1024;\n",
              "\n",
              "function _uploadFiles(inputId, outputId) {\n",
              "  const steps = uploadFilesStep(inputId, outputId);\n",
              "  const outputElement = document.getElementById(outputId);\n",
              "  // Cache steps on the outputElement to make it available for the next call\n",
              "  // to uploadFilesContinue from Python.\n",
              "  outputElement.steps = steps;\n",
              "\n",
              "  return _uploadFilesContinue(outputId);\n",
              "}\n",
              "\n",
              "// This is roughly an async generator (not supported in the browser yet),\n",
              "// where there are multiple asynchronous steps and the Python side is going\n",
              "// to poll for completion of each step.\n",
              "// This uses a Promise to block the python side on completion of each step,\n",
              "// then passes the result of the previous step as the input to the next step.\n",
              "function _uploadFilesContinue(outputId) {\n",
              "  const outputElement = document.getElementById(outputId);\n",
              "  const steps = outputElement.steps;\n",
              "\n",
              "  const next = steps.next(outputElement.lastPromiseValue);\n",
              "  return Promise.resolve(next.value.promise).then((value) => {\n",
              "    // Cache the last promise value to make it available to the next\n",
              "    // step of the generator.\n",
              "    outputElement.lastPromiseValue = value;\n",
              "    return next.value.response;\n",
              "  });\n",
              "}\n",
              "\n",
              "/**\n",
              " * Generator function which is called between each async step of the upload\n",
              " * process.\n",
              " * @param {string} inputId Element ID of the input file picker element.\n",
              " * @param {string} outputId Element ID of the output display.\n",
              " * @return {!Iterable<!Object>} Iterable of next steps.\n",
              " */\n",
              "function* uploadFilesStep(inputId, outputId) {\n",
              "  const inputElement = document.getElementById(inputId);\n",
              "  inputElement.disabled = false;\n",
              "\n",
              "  const outputElement = document.getElementById(outputId);\n",
              "  outputElement.innerHTML = '';\n",
              "\n",
              "  const pickedPromise = new Promise((resolve) => {\n",
              "    inputElement.addEventListener('change', (e) => {\n",
              "      resolve(e.target.files);\n",
              "    });\n",
              "  });\n",
              "\n",
              "  const cancel = document.createElement('button');\n",
              "  inputElement.parentElement.appendChild(cancel);\n",
              "  cancel.textContent = 'Cancel upload';\n",
              "  const cancelPromise = new Promise((resolve) => {\n",
              "    cancel.onclick = () => {\n",
              "      resolve(null);\n",
              "    };\n",
              "  });\n",
              "\n",
              "  // Wait for the user to pick the files.\n",
              "  const files = yield {\n",
              "    promise: Promise.race([pickedPromise, cancelPromise]),\n",
              "    response: {\n",
              "      action: 'starting',\n",
              "    }\n",
              "  };\n",
              "\n",
              "  cancel.remove();\n",
              "\n",
              "  // Disable the input element since further picks are not allowed.\n",
              "  inputElement.disabled = true;\n",
              "\n",
              "  if (!files) {\n",
              "    return {\n",
              "      response: {\n",
              "        action: 'complete',\n",
              "      }\n",
              "    };\n",
              "  }\n",
              "\n",
              "  for (const file of files) {\n",
              "    const li = document.createElement('li');\n",
              "    li.append(span(file.name, {fontWeight: 'bold'}));\n",
              "    li.append(span(\n",
              "        `(${file.type || 'n/a'}) - ${file.size} bytes, ` +\n",
              "        `last modified: ${\n",
              "            file.lastModifiedDate ? file.lastModifiedDate.toLocaleDateString() :\n",
              "                                    'n/a'} - `));\n",
              "    const percent = span('0% done');\n",
              "    li.appendChild(percent);\n",
              "\n",
              "    outputElement.appendChild(li);\n",
              "\n",
              "    const fileDataPromise = new Promise((resolve) => {\n",
              "      const reader = new FileReader();\n",
              "      reader.onload = (e) => {\n",
              "        resolve(e.target.result);\n",
              "      };\n",
              "      reader.readAsArrayBuffer(file);\n",
              "    });\n",
              "    // Wait for the data to be ready.\n",
              "    let fileData = yield {\n",
              "      promise: fileDataPromise,\n",
              "      response: {\n",
              "        action: 'continue',\n",
              "      }\n",
              "    };\n",
              "\n",
              "    // Use a chunked sending to avoid message size limits. See b/62115660.\n",
              "    let position = 0;\n",
              "    do {\n",
              "      const length = Math.min(fileData.byteLength - position, MAX_PAYLOAD_SIZE);\n",
              "      const chunk = new Uint8Array(fileData, position, length);\n",
              "      position += length;\n",
              "\n",
              "      const base64 = btoa(String.fromCharCode.apply(null, chunk));\n",
              "      yield {\n",
              "        response: {\n",
              "          action: 'append',\n",
              "          file: file.name,\n",
              "          data: base64,\n",
              "        },\n",
              "      };\n",
              "\n",
              "      let percentDone = fileData.byteLength === 0 ?\n",
              "          100 :\n",
              "          Math.round((position / fileData.byteLength) * 100);\n",
              "      percent.textContent = `${percentDone}% done`;\n",
              "\n",
              "    } while (position < fileData.byteLength);\n",
              "  }\n",
              "\n",
              "  // All done.\n",
              "  yield {\n",
              "    response: {\n",
              "      action: 'complete',\n",
              "    }\n",
              "  };\n",
              "}\n",
              "\n",
              "scope.google = scope.google || {};\n",
              "scope.google.colab = scope.google.colab || {};\n",
              "scope.google.colab._files = {\n",
              "  _uploadFiles,\n",
              "  _uploadFilesContinue,\n",
              "};\n",
              "})(self);\n",
              "</script> "
            ],
            "text/plain": [
              "<IPython.core.display.HTML object>"
            ]
          },
          "metadata": {},
          "output_type": "display_data"
        },
        {
          "name": "stdout",
          "output_type": "stream",
          "text": [
            "Saving mbappe.png to mbappe (1).png\n"
          ]
        }
      ],
      "source": [
        "from google.colab import files\n",
        "uploaded = files.upload()\n"
      ]
    },
    {
      "cell_type": "markdown",
      "id": "ztqSKjFW-vjh",
      "metadata": {
        "id": "ztqSKjFW-vjh"
      },
      "source": []
    },
    {
      "cell_type": "markdown",
      "id": "JNNh2om5-2WR",
      "metadata": {
        "id": "JNNh2om5-2WR"
      },
      "source": [
        "#19. prepare the image"
      ]
    },
    {
      "cell_type": "code",
      "execution_count": 30,
      "id": "Q6EYEQkE-X_8",
      "metadata": {
        "id": "Q6EYEQkE-X_8"
      },
      "outputs": [],
      "source": [
        "from PIL import Image\n",
        "import torchvision.transforms as transforms\n",
        "import torch\n",
        "\n",
        "# Replace with the name of the uploaded image\n",
        "image_path = list(uploaded.keys())[0]\n",
        "\n",
        "transform = transforms.Compose([\n",
        "    transforms.Resize((224, 224)),\n",
        "    transforms.ToTensor(),\n",
        "    transforms.Normalize(mean=[0.485, 0.456, 0.406],  # standard ImageNet normalization\n",
        "                         std=[0.229, 0.224, 0.225])\n",
        "])\n",
        "\n",
        "img = Image.open(image_path).convert('RGB')\n",
        "input_tensor = transform(img).unsqueeze(0).to(device)\n"
      ]
    },
    {
      "cell_type": "markdown",
      "id": "IZQhyPq1_ZcH",
      "metadata": {
        "id": "IZQhyPq1_ZcH"
      },
      "source": [
        "#20. evaluation of image"
      ]
    },
    {
      "cell_type": "code",
      "execution_count": 31,
      "id": "08tIdzJ8-Z-Q",
      "metadata": {
        "colab": {
          "base_uri": "https://localhost:8080/"
        },
        "id": "08tIdzJ8-Z-Q",
        "outputId": "c365d690-0798-4671-bdfa-26a8d05c24eb"
      },
      "outputs": [
        {
          "name": "stdout",
          "output_type": "stream",
          "text": [
            "Predicted Gender: male\n"
          ]
        }
      ],
      "source": [
        "model.eval()\n",
        "with torch.no_grad():\n",
        "    output = model(input_tensor)\n",
        "    _, predicted = torch.max(output, 1)\n",
        "    class_idx = predicted.item()\n",
        "    class_names = train_dataset.classes  # ['female', 'male'] from your original dataset\n",
        "\n",
        "print(f\"Predicted Gender: {class_names[class_idx]}\")\n"
      ]
    },
    {
      "cell_type": "markdown",
      "id": "XbLkcQxJ_b5x",
      "metadata": {
        "id": "XbLkcQxJ_b5x"
      },
      "source": [
        "# 21 showing of image"
      ]
    },
    {
      "cell_type": "code",
      "execution_count": 32,
      "id": "VVwVT7Em-dBU",
      "metadata": {
        "colab": {
          "base_uri": "https://localhost:8080/",
          "height": 428
        },
        "id": "VVwVT7Em-dBU",
        "outputId": "7d90954a-4534-4f7f-a8ba-e34453f964c5"
      },
      "outputs": [
        {
          "data": {
            "image/png": "[encoded data removed]",
            "text/plain": [
              "<Figure size 640x480 with 1 Axes>"
            ]
          },
          "metadata": {},
          "output_type": "display_data"
        }
      ],
      "source": [
        "import matplotlib.pyplot as plt\n",
        "\n",
        "plt.imshow(img)\n",
        "plt.title(f\"Predicted Gender: {class_names[class_idx]}\")\n",
        "plt.axis('off')\n",
        "plt.show()\n"
      ]
    }
  ],
  "metadata": {
    "accelerator": "GPU",
    "colab": {
      "gpuType": "T4",
      "provenance": []
    },
    "kernelspec": {
      "display_name": "Python 3",
      "name": "python3"
    },
    "language_info": {
      "codemirror_mode": {
        "name": "ipython",
        "version": 3
      },
      "file_extension": ".py",
      "mimetype": "text/x-python",
      "name": "python",
      "nbconvert_exporter": "python",
      "pygments_lexer": "ipython3",
      "version": "3.11.8"
    }
  },
  "nbformat": 4,
  "nbformat_minor": 5
}
